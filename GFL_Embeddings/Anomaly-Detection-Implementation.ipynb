{
 "cells": [
  {
   "cell_type": "code",
   "execution_count": 17,
   "metadata": {},
   "outputs": [],
   "source": [
    "import numpy as np\n",
    "import sklearn\n",
    "import matplotlib.pyplot as plt\n",
    "import seaborn as sns"
   ]
  },
  {
   "cell_type": "code",
   "execution_count": 69,
   "metadata": {},
   "outputs": [
    {
     "name": "stdout",
     "output_type": "stream",
     "text": [
      "(3344, 2048)\n"
     ]
    }
   ],
   "source": [
    "embeddings_folder = './Resnet50_TL'\n",
    "\n",
    "# READ NORMAL EMBEDDINGS\n",
    "\n",
    "normal_classes_to_read = [1, 2, 5, 6]\n",
    "normal_embeddings = None\n",
    "for c in normal_classes_to_read:\n",
    "    embeddings = np.load(embeddings_folder+'/class-'+str(c)+'.npy')\n",
    "    \n",
    "    normal_embeddings = np.vstack([normal_embeddings, embeddings]) if normal_embeddings is not None else embeddings\n",
    "#     print(embeddings.shape)\n",
    "    \n",
    "print(normal_embeddings.shape)"
   ]
  },
  {
   "cell_type": "code",
   "execution_count": 70,
   "metadata": {},
   "outputs": [
    {
     "name": "stdout",
     "output_type": "stream",
     "text": [
      "(1000, 2048)\n",
      "(800, 2048)\n"
     ]
    }
   ],
   "source": [
    "# READ ABNORMAL EMBEDDINGS\n",
    "easy_anomaly_embeddings = np.load(embeddings_folder+'/class-3.npy')\n",
    "hard_anomaly_embeddings = np.load(embeddings_folder+'/class-0.npy')\n",
    "\n",
    "print(easy_anomaly_embeddings.shape)\n",
    "print(hard_anomaly_embeddings.shape)"
   ]
  },
  {
   "cell_type": "code",
   "execution_count": 95,
   "metadata": {},
   "outputs": [
    {
     "name": "stdout",
     "output_type": "stream",
     "text": [
      "Using 3344 normal embeddings & 176 abnormal embeddings\n",
      "Final shape of the dataset (3520, 2048)\n"
     ]
    }
   ],
   "source": [
    "def build_anomalies_dataset(normals, anomalies, density, shuffle=True):\n",
    "    assert density <= len(anomalies)/(len(normals)+len(anomalies))\n",
    "    assert density >= 0.0\n",
    "    \n",
    "    anomalies_to_take = int( (len(normals)*density)/(1-density) )\n",
    "    \n",
    "    print('Using',len(normals),'normal embeddings &', anomalies_to_take, 'abnormal embeddings')\n",
    "    \n",
    "    if shuffle and anomalies_to_take < len(anomalies):\n",
    "        np.random.shuffle(anomalies)\n",
    "    \n",
    "    X = np.vstack([normals, anomalies[:anomalies_to_take]])\n",
    "    \n",
    "    print('Final shape of the dataset', X.shape)\n",
    "    return X\n",
    "\n",
    "density = 0.05\n",
    "X = build_anomalies_dataset(normal_embeddings, easy_anomaly_embeddings, density=density)"
   ]
  },
  {
   "cell_type": "markdown",
   "metadata": {},
   "source": [
    "# MULTIVARIATE GAUSSIAN DISTRIBUTION"
   ]
  },
  {
   "cell_type": "code",
   "execution_count": 96,
   "metadata": {},
   "outputs": [],
   "source": [
    "# def outside_gaussian(X, mean, std, tolerance=1):\n",
    "#     distances = np.abs(X-mean)\n",
    "#     inside = distances < tolerance*std\n",
    "    \n",
    "#     confidence = inside.sum(axis=1)/2048\n",
    "#     outliers = confidence < 0.5\n",
    "#     return np.argwhere(outliers)"
   ]
  },
  {
   "cell_type": "code",
   "execution_count": 97,
   "metadata": {},
   "outputs": [],
   "source": [
    "# from sklearn.covariance import EllipticEnvelope\n",
    "\n",
    "# X = build_anomalies_dataset(normal_embeddings, easy_anomaly_embeddings, density=0.05)\n",
    "\n",
    "# cov = EllipticEnvelope(random_state=0).fit(X)"
   ]
  },
  {
   "cell_type": "code",
   "execution_count": 98,
   "metadata": {},
   "outputs": [],
   "source": [
    "# outliers = cov.predict(X)"
   ]
  },
  {
   "cell_type": "code",
   "execution_count": 99,
   "metadata": {},
   "outputs": [],
   "source": [
    "# outliers = np.argwhere(outliers==-1)\n",
    "# outliers"
   ]
  },
  {
   "cell_type": "markdown",
   "metadata": {},
   "source": [
    "# UMAP LOF"
   ]
  },
  {
   "cell_type": "code",
   "execution_count": 100,
   "metadata": {},
   "outputs": [],
   "source": [
    "import umap"
   ]
  },
  {
   "cell_type": "code",
   "execution_count": 101,
   "metadata": {},
   "outputs": [
    {
     "name": "stdout",
     "output_type": "stream",
     "text": [
      "(3520, 2)\n",
      "CPU times: user 13.4 s, sys: 2.1 s, total: 15.5 s\n",
      "Wall time: 10.3 s\n"
     ]
    }
   ],
   "source": [
    "%%time\n",
    "reducer = umap.UMAP(n_components=2)\n",
    "reduced_X = reducer.fit_transform(X)\n",
    "print(reduced_X.shape)"
   ]
  },
  {
   "cell_type": "code",
   "execution_count": 102,
   "metadata": {},
   "outputs": [
    {
     "data": {
      "text/plain": [
       "Text(0.5, 1.0, 'UMAP projection')"
      ]
     },
     "execution_count": 102,
     "metadata": {},
     "output_type": "execute_result"
    },
    {
     "data": {
      "image/png": "[encoded data removed]",
      "text/plain": [
       "<Figure size 432x288 with 1 Axes>"
      ]
     },
     "metadata": {
      "needs_background": "light"
     },
     "output_type": "display_data"
    }
   ],
   "source": [
    "plt.scatter(reduced_X[:, 0], reduced_X[:, 1], c=['g' if i < len(normal_embeddings) else 'r' for i in range(len(X))])\n",
    "plt.gca().set_aspect('equal', 'datalim')\n",
    "plt.title('UMAP projection', fontsize=24)"
   ]
  },
  {
   "cell_type": "code",
   "execution_count": 103,
   "metadata": {},
   "outputs": [
    {
     "name": "stdout",
     "output_type": "stream",
     "text": [
      "[[   6]\n",
      " [  13]\n",
      " [  20]\n",
      " [  21]\n",
      " [  73]\n",
      " [  82]\n",
      " [  85]\n",
      " [ 144]\n",
      " [ 252]\n",
      " [ 300]\n",
      " [ 327]\n",
      " [ 359]\n",
      " [ 392]\n",
      " [ 393]\n",
      " [ 450]\n",
      " [ 476]\n",
      " [ 480]\n",
      " [ 483]\n",
      " [ 499]\n",
      " [ 532]\n",
      " [ 533]\n",
      " [ 581]\n",
      " [ 583]\n",
      " [ 585]\n",
      " [ 599]\n",
      " [ 600]\n",
      " [ 601]\n",
      " [ 701]\n",
      " [ 703]\n",
      " [ 707]\n",
      " [ 801]\n",
      " [ 802]\n",
      " [ 806]\n",
      " [ 830]\n",
      " [ 861]\n",
      " [ 903]\n",
      " [ 904]\n",
      " [ 971]\n",
      " [1001]\n",
      " [1002]\n",
      " [1006]\n",
      " [1007]\n",
      " [1011]\n",
      " [1020]\n",
      " [1113]\n",
      " [1114]\n",
      " [1166]\n",
      " [1202]\n",
      " [1203]\n",
      " [1229]\n",
      " [1230]\n",
      " [1302]\n",
      " [1316]\n",
      " [1317]\n",
      " [1318]\n",
      " [1319]\n",
      " [1320]\n",
      " [1321]\n",
      " [1322]\n",
      " [1350]\n",
      " [1351]\n",
      " [1400]\n",
      " [1401]\n",
      " [1407]\n",
      " [1428]\n",
      " [1434]\n",
      " [1435]\n",
      " [1446]\n",
      " [1448]\n",
      " [1450]\n",
      " [1455]\n",
      " [1456]\n",
      " [1653]\n",
      " [1654]\n",
      " [1659]\n",
      " [1670]\n",
      " [1673]\n",
      " [1696]\n",
      " [1697]\n",
      " [1698]\n",
      " [1699]\n",
      " [1760]\n",
      " [1768]\n",
      " [1771]\n",
      " [1775]\n",
      " [1776]\n",
      " [1833]\n",
      " [1845]\n",
      " [1865]\n",
      " [1915]\n",
      " [1916]\n",
      " [1954]\n",
      " [2052]\n",
      " [2054]\n",
      " [2055]\n",
      " [2056]\n",
      " [2058]\n",
      " [2154]\n",
      " [2156]\n",
      " [2157]\n",
      " [2158]\n",
      " [2159]\n",
      " [2160]\n",
      " [2161]\n",
      " [2162]\n",
      " [2171]\n",
      " [2296]\n",
      " [2303]\n",
      " [2305]\n",
      " [2339]\n",
      " [2342]\n",
      " [2348]\n",
      " [2354]\n",
      " [2355]\n",
      " [2361]\n",
      " [2362]\n",
      " [2394]\n",
      " [2482]\n",
      " [2553]\n",
      " [2556]\n",
      " [2561]\n",
      " [2664]\n",
      " [2754]\n",
      " [2827]\n",
      " [2828]\n",
      " [2848]\n",
      " [2850]\n",
      " [2873]\n",
      " [2875]\n",
      " [3025]\n",
      " [3052]\n",
      " [3053]\n",
      " [3060]\n",
      " [3061]\n",
      " [3062]\n",
      " [3079]\n",
      " [3138]\n",
      " [3252]\n",
      " [3254]\n",
      " [3348]\n",
      " [3353]\n",
      " [3355]\n",
      " [3357]\n",
      " [3366]\n",
      " [3367]\n",
      " [3378]\n",
      " [3385]\n",
      " [3389]\n",
      " [3396]\n",
      " [3397]\n",
      " [3399]\n",
      " [3406]\n",
      " [3408]\n",
      " [3411]\n",
      " [3413]\n",
      " [3416]\n",
      " [3422]\n",
      " [3423]\n",
      " [3428]\n",
      " [3431]\n",
      " [3438]\n",
      " [3445]\n",
      " [3456]\n",
      " [3460]\n",
      " [3463]\n",
      " [3471]\n",
      " [3473]\n",
      " [3474]\n",
      " [3476]\n",
      " [3479]\n",
      " [3491]\n",
      " [3493]\n",
      " [3494]\n",
      " [3505]\n",
      " [3510]\n",
      " [3515]]\n",
      "CPU times: user 45.8 s, sys: 124 ms, total: 45.9 s\n",
      "Wall time: 45.8 s\n"
     ]
    }
   ],
   "source": [
    "%%time\n",
    "from sklearn.neighbors import LocalOutlierFactor\n",
    "outlier_scores = sklearn.neighbors.LocalOutlierFactor(contamination=density).fit_predict(X)\n",
    "outlying_indexs = np.argwhere(outlier_scores == -1)\n",
    "print(outlying_indexs)"
   ]
  },
  {
   "cell_type": "code",
   "execution_count": 104,
   "metadata": {},
   "outputs": [
    {
     "name": "stdout",
     "output_type": "stream",
     "text": [
      "True positives: 21.022727272727273\n"
     ]
    }
   ],
   "source": [
    "TP = (outlying_indexs >= len(normal_embeddings)).sum()\n",
    "print('True positives:', TP*100/len(outlying_indexs))"
   ]
  },
  {
   "cell_type": "markdown",
   "metadata": {},
   "source": [
    "# PCA"
   ]
  },
  {
   "cell_type": "code",
   "execution_count": 105,
   "metadata": {},
   "outputs": [],
   "source": [
    "from sklearn.decomposition import PCA\n",
    "\n",
    "pca = PCA(n_components=2048)\n",
    "pca.fit(X)\n",
    "variances = pca.explained_variance_ratio_"
   ]
  },
  {
   "cell_type": "code",
   "execution_count": 106,
   "metadata": {},
   "outputs": [
    {
     "data": {
      "image/png": "[encoded data removed]",
      "text/plain": [
       "<Figure size 432x288 with 1 Axes>"
      ]
     },
     "metadata": {
      "needs_background": "light"
     },
     "output_type": "display_data"
    }
   ],
   "source": [
    "plt.bar(range(2048), variances)\n",
    "plt.yscale('log')"
   ]
  },
  {
   "cell_type": "code",
   "execution_count": null,
   "metadata": {},
   "outputs": [],
   "source": []
  }
 ],
 "metadata": {
  "kernelspec": {
   "display_name": "Python 3",
   "language": "python",
   "name": "python3"
  },
  "language_info": {
   "codemirror_mode": {
    "name": "ipython",
    "version": 3
   },
   "file_extension": ".py",
   "mimetype": "text/x-python",
   "name": "python",
   "nbconvert_exporter": "python",
   "pygments_lexer": "ipython3",
   "version": "3.5.3"
  }
 },
 "nbformat": 4,
 "nbformat_minor": 2
}
